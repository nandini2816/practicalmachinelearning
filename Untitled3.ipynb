{
  "nbformat": 4,
  "nbformat_minor": 0,
  "metadata": {
    "colab": {
      "provenance": [],
      "authorship_tag": "ABX9TyObViFfEFAQyDJ7I5D39Q8z",
      "include_colab_link": true
    },
    "kernelspec": {
      "name": "python3",
      "display_name": "Python 3"
    },
    "language_info": {
      "name": "python"
    },
    "accelerator": "GPU",
    "gpuClass": "standard"
  },
  "cells": [
    {
      "cell_type": "markdown",
      "metadata": {
        "id": "view-in-github",
        "colab_type": "text"
      },
      "source": [
        "<a href=\"https://colab.research.google.com/github/nandini2816/practicalmachinelearning/blob/master/Untitled3.ipynb\" target=\"_parent\"><img src=\"https://colab.research.google.com/assets/colab-badge.svg\" alt=\"Open In Colab\"/></a>"
      ]
    },
    {
      "cell_type": "code",
      "execution_count": null,
      "metadata": {
        "id": "Ad0PCeajeNc8"
      },
      "outputs": [],
      "source": [
        "!pip install --quiet \"tensorflow-text==2.8.*\"\n",
        "import tensorflow as tf\n",
        "import tensorflow_hub as hub\n",
        "import tensorflow_text as text\n",
        "import pandas as pd\n",
        "import seaborn as sn\n",
        "import numpy as np\n",
        "from sklearn.model_selection import train_test_split\n",
        "import matplotlib.pyplot as plt\n",
        "import os\n",
        "import sys\n",
        "import time"
      ]
    },
    {
      "cell_type": "code",
      "source": [
        "from google.colab import drive\n",
        "drive.mount('/content/sample_data/model_file.zip',force_remount=True)\n",
        "!cp m"
      ],
      "metadata": {
        "id": "4p3cPb5YDtWu"
      },
      "execution_count": null,
      "outputs": []
    },
    {
      "cell_type": "code",
      "source": [
        "intent_data=pd.read_excel('/content/sample_data/intent_training_data.xlsx',sheet_name='Sheet4')\n",
        "intent_data=intent_data.drop(columns=['s_no','label'])\n",
        "print(intent_data.sample(10))\n",
        "x_train,x_test,y_train,y_test=train_test_split(intent_data['training_data'],intent_data['Class'],stratify=intent_data['Class'])\n",
        "print(x_train.shape,x_test.shape)\n",
        "print(type(x_train)==type(intent_data['training_data']))\n",
        "x=intent_data['training_data']\n",
        "y=intent_data['Class']\n",
        "print(x)"
      ],
      "metadata": {
        "colab": {
          "base_uri": "https://localhost:8080/"
        },
        "id": "f4ivbL7piHlH",
        "outputId": "701c6b1e-7a6f-4ab5-9540-f3d489b2e6f4"
      },
      "execution_count": null,
      "outputs": [
        {
          "output_type": "stream",
          "name": "stdout",
          "text": [
            "     Class                                      training_data\n",
            "186      2         What was the hypothesis for test id 30323?\n",
            "274      2                Tell me about  Product Advisor test\n",
            "864      6  Give me the tests that we have run on checkout...\n",
            "254      2         What was the aim for  Product Advisor test\n",
            "233      2  what was the motivation for testing quick view...\n",
            "264      2  What was the purpose of running  Product Advis...\n",
            "725      5  what action was taken based on the findings of...\n",
            "383      3                  What was the location for 16579 ?\n",
            "211      2                 Why did we run Brand Tagline test?\n",
            "138      2                that's nice, why did we test 30270?\n",
            "(791,) (264,)\n",
            "True\n",
            "0                         hey, Ishika here.\n",
            "1                    hello, this is Ishika.\n",
            "2                            hi, I'm Ishika\n",
            "3                         hey, Jordan here.\n",
            "4                    hello, this is Jordan.\n",
            "                       ...                 \n",
            "1050    I didn't get what I was looking for\n",
            "1051                      this doesn't help\n",
            "1052                                   nooo\n",
            "1053                                   none\n",
            "1054                             not at all\n",
            "Name: training_data, Length: 1055, dtype: object\n"
          ]
        }
      ]
    },
    {
      "cell_type": "code",
      "source": [
        "bert_preprocess = hub.KerasLayer(\"https://tfhub.dev/tensorflow/bert_en_uncased_preprocess/3\")\n",
        "bert_encoder = hub.KerasLayer(\"https://tfhub.dev/tensorflow/bert_en_uncased_L-12_H-768_A-12/4\", trainable=True)"
      ],
      "metadata": {
        "id": "ozMCY3zKiSqh"
      },
      "execution_count": null,
      "outputs": []
    },
    {
      "cell_type": "code",
      "source": [
        "text_input = tf.keras.layers.Input(shape=(), dtype=tf.string, name='text')\n",
        "preprocessed_text = bert_preprocess(text_input)\n",
        "outputs = bert_encoder(preprocessed_text)\n",
        "\n",
        "cls_out = tf.keras.layers.Dropout(0.5)(outputs['pooled_output'])\n",
        "logits = tf.keras.layers.Dense(units=768, activation=\"relu\")(cls_out)\n",
        "logits = tf.keras.layers.Dropout(0.5)(logits)\n",
        "logits = tf.keras.layers.Dense(units=11,activation=\"softmax\")(logits)\n",
        "\n",
        "# Neural Network Layers\n",
        "\n",
        "#l = tf.keras.layers.Dropout(0.1, name=\"dropout\")(outputs['pooled_output'])\n",
        "#l1 = tf.keras.layers.Dense(100, activation='relu', name=\"hidden_layer\")(l)\n",
        "#l2 = tf.keras.layers.Dense(10, activation='sigmoid', name=\"output\")(l2)\n",
        "\n",
        "# Use inputs and outputs to construct a final model\n",
        "model = tf.keras.Model(inputs=[text_input], outputs = [logits])\n",
        "model.compile(\n",
        "  optimizer=tf.keras.optimizers.Adam(1e-5),\n",
        "  loss=tf.keras.losses.SparseCategoricalCrossentropy(from_logits=True),\n",
        "  metrics=[tf.keras.metrics.SparseCategoricalAccuracy(name=\"acc\")]\n",
        ")\n",
        "model.fit(\n",
        "  x=x_train,\n",
        "  y=y_train,\n",
        "  batch_size=8,\n",
        "  shuffle=True,\n",
        "  epochs=20,\n",
        "  validation_split=0.1  \n",
        ")\n",
        "\n",
        "\n",
        "#model.save(r'/content/sample_data/model')"
      ],
      "metadata": {
        "colab": {
          "base_uri": "https://localhost:8080/"
        },
        "id": "4E4UHSwplkrM",
        "outputId": "1993061f-c3c8-4703-9be5-08cc6b99ab64"
      },
      "execution_count": null,
      "outputs": [
        {
          "output_type": "stream",
          "name": "stdout",
          "text": [
            "Epoch 1/20\n",
            "89/89 [==============================] - 31s 276ms/step - loss: 1.8422 - acc: 0.4529 - val_loss: 0.7795 - val_acc: 0.8875\n",
            "Epoch 2/20\n",
            "89/89 [==============================] - 23s 259ms/step - loss: 0.7959 - acc: 0.8143 - val_loss: 0.4307 - val_acc: 0.9000\n",
            "Epoch 3/20\n",
            "89/89 [==============================] - 22s 252ms/step - loss: 0.4677 - acc: 0.9184 - val_loss: 0.3177 - val_acc: 0.9375\n",
            "Epoch 4/20\n",
            "89/89 [==============================] - 22s 247ms/step - loss: 0.2872 - acc: 0.9648 - val_loss: 0.2835 - val_acc: 0.9500\n",
            "Epoch 5/20\n",
            "89/89 [==============================] - 22s 247ms/step - loss: 0.2021 - acc: 0.9719 - val_loss: 0.2525 - val_acc: 0.9500\n",
            "Epoch 6/20\n",
            "89/89 [==============================] - 22s 248ms/step - loss: 0.1519 - acc: 0.9803 - val_loss: 0.2186 - val_acc: 0.9625\n",
            "Epoch 7/20\n",
            "89/89 [==============================] - 22s 246ms/step - loss: 0.1408 - acc: 0.9845 - val_loss: 0.1995 - val_acc: 0.9625\n",
            "Epoch 8/20\n",
            "89/89 [==============================] - 22s 246ms/step - loss: 0.0843 - acc: 0.9930 - val_loss: 0.2006 - val_acc: 0.9625\n",
            "Epoch 9/20\n",
            "89/89 [==============================] - 23s 262ms/step - loss: 0.0695 - acc: 0.9944 - val_loss: 0.2066 - val_acc: 0.9625\n",
            "Epoch 10/20\n",
            "89/89 [==============================] - 22s 252ms/step - loss: 0.0646 - acc: 0.9944 - val_loss: 0.1999 - val_acc: 0.9625\n",
            "Epoch 11/20\n",
            "89/89 [==============================] - 23s 256ms/step - loss: 0.0575 - acc: 0.9930 - val_loss: 0.2162 - val_acc: 0.9500\n",
            "Epoch 12/20\n",
            "89/89 [==============================] - 22s 249ms/step - loss: 0.0466 - acc: 0.9944 - val_loss: 0.1936 - val_acc: 0.9625\n",
            "Epoch 13/20\n",
            "89/89 [==============================] - 22s 247ms/step - loss: 0.0426 - acc: 0.9930 - val_loss: 0.1885 - val_acc: 0.9625\n",
            "Epoch 14/20\n",
            "89/89 [==============================] - 22s 253ms/step - loss: 0.0397 - acc: 0.9958 - val_loss: 0.2105 - val_acc: 0.9500\n",
            "Epoch 15/20\n",
            "89/89 [==============================] - 22s 247ms/step - loss: 0.0355 - acc: 0.9944 - val_loss: 0.1881 - val_acc: 0.9750\n",
            "Epoch 16/20\n",
            "89/89 [==============================] - 22s 247ms/step - loss: 0.0313 - acc: 0.9958 - val_loss: 0.2043 - val_acc: 0.9625\n",
            "Epoch 17/20\n",
            "89/89 [==============================] - 22s 246ms/step - loss: 0.0329 - acc: 0.9944 - val_loss: 0.2032 - val_acc: 0.9625\n",
            "Epoch 18/20\n",
            "89/89 [==============================] - 22s 252ms/step - loss: 0.0224 - acc: 0.9944 - val_loss: 0.1992 - val_acc: 0.9750\n",
            "Epoch 19/20\n",
            "89/89 [==============================] - 22s 246ms/step - loss: 0.0227 - acc: 0.9972 - val_loss: 0.2156 - val_acc: 0.9750\n",
            "Epoch 20/20\n",
            "89/89 [==============================] - 22s 247ms/step - loss: 0.0343 - acc: 0.9930 - val_loss: 0.0180 - val_acc: 1.0000\n"
          ]
        },
        {
          "output_type": "execute_result",
          "data": {
            "text/plain": [
              "<keras.callbacks.History at 0x7f4921baddf0>"
            ]
          },
          "metadata": {},
          "execution_count": 23
        }
      ]
    },
    {
      "cell_type": "code",
      "source": [
        "model.evaluate(x_test, y_test)\n",
        "y_predicted=model.predict(x_test)\n",
        "y_predicted_labels = [np.argmax(i) for i in y_predicted]\n",
        "cm=tf.math.confusion_matrix(labels=y_test,predictions=y_predicted_labels)\n",
        "plt.figure(figsize = (10,7))\n",
        "sn.heatmap(cm, annot=True, fmt='d')\n",
        "plt.xlabel('Predicted')\n",
        "plt.ylabel('Truth')"
      ],
      "metadata": {
        "id": "NDfyyW9Hq5pE",
        "colab": {
          "base_uri": "https://localhost:8080/",
          "height": 477
        },
        "outputId": "d8d5d4a8-0388-44f4-c029-55278b29760a"
      },
      "execution_count": null,
      "outputs": [
        {
          "output_type": "stream",
          "name": "stdout",
          "text": [
            "9/9 [==============================] - 4s 293ms/step - loss: 0.1407 - acc: 0.9697\n"
          ]
        },
        {
          "output_type": "execute_result",
          "data": {
            "text/plain": [
              "Text(69.0, 0.5, 'Truth')"
            ]
          },
          "metadata": {},
          "execution_count": 24
        },
        {
          "output_type": "display_data",
          "data": {
            "text/plain": [
              "<Figure size 720x504 with 2 Axes>"
            ],
            "image/png": "[encoded data removed]"
          },
          "metadata": {
            "needs_background": "light"
          }
        }
      ]
    },
    {
      "cell_type": "code",
      "source": [
        "model.save(r'/content/sample_data/saved_model')\n",
        "!zip -r /content/sample_data/model_file.zip /content/sample_data/saved_model\n",
        "from google.colab import files\n",
        "files.download(\"/content/sample_data/model_file.zip\")"
      ],
      "metadata": {
        "colab": {
          "base_uri": "https://localhost:8080/",
          "height": 211
        },
        "id": "Ef4O_7_gnew9",
        "outputId": "1ada231c-e217-4d96-a4fe-07cc1e5ba670"
      },
      "execution_count": null,
      "outputs": [
        {
          "output_type": "stream",
          "name": "stderr",
          "text": [
            "WARNING:absl:Found untraced functions such as restored_function_body, restored_function_body, restored_function_body, restored_function_body, restored_function_body while saving (showing 5 of 366). These functions will not be directly callable after loading.\n"
          ]
        },
        {
          "output_type": "stream",
          "name": "stdout",
          "text": [
            "updating: content/sample_data/saved_model/ (stored 0%)\n",
            "  adding: content/sample_data/saved_model/assets/ (stored 0%)\n",
            "  adding: content/sample_data/saved_model/assets/vocab.txt (deflated 53%)\n",
            "  adding: content/sample_data/saved_model/variables/ (stored 0%)\n",
            "  adding: content/sample_data/saved_model/variables/variables.index (deflated 82%)\n",
            "  adding: content/sample_data/saved_model/variables/variables.data-00000-of-00001 (deflated 21%)\n",
            "  adding: content/sample_data/saved_model/keras_metadata.pb (deflated 87%)\n",
            "  adding: content/sample_data/saved_model/saved_model.pb (deflated 92%)\n"
          ]
        },
        {
          "output_type": "display_data",
          "data": {
            "text/plain": [
              "<IPython.core.display.Javascript object>"
            ],
            "application/javascript": [
              "\n",
              "    async function download(id, filename, size) {\n",
              "      if (!google.colab.kernel.accessAllowed) {\n",
              "        return;\n",
              "      }\n",
              "      const div = document.createElement('div');\n",
              "      const label = document.createElement('label');\n",
              "      label.textContent = `Downloading \"${filename}\": `;\n",
              "      div.appendChild(label);\n",
              "      const progress = document.createElement('progress');\n",
              "      progress.max = size;\n",
              "      div.appendChild(progress);\n",
              "      document.body.appendChild(div);\n",
              "\n",
              "      const buffers = [];\n",
              "      let downloaded = 0;\n",
              "\n",
              "      const channel = await google.colab.kernel.comms.open(id);\n",
              "      // Send a message to notify the kernel that we're ready.\n",
              "      channel.send({})\n",
              "\n",
              "      for await (const message of channel.messages) {\n",
              "        // Send a message to notify the kernel that we're ready.\n",
              "        channel.send({})\n",
              "        if (message.buffers) {\n",
              "          for (const buffer of message.buffers) {\n",
              "            buffers.push(buffer);\n",
              "            downloaded += buffer.byteLength;\n",
              "            progress.value = downloaded;\n",
              "          }\n",
              "        }\n",
              "      }\n",
              "      const blob = new Blob(buffers, {type: 'application/binary'});\n",
              "      const a = document.createElement('a');\n",
              "      a.href = window.URL.createObjectURL(blob);\n",
              "      a.download = filename;\n",
              "      div.appendChild(a);\n",
              "      a.click();\n",
              "      div.remove();\n",
              "    }\n",
              "  "
            ]
          },
          "metadata": {}
        },
        {
          "output_type": "display_data",
          "data": {
            "text/plain": [
              "<IPython.core.display.Javascript object>"
            ],
            "application/javascript": [
              "download(\"download_1fa7351b-07a6-4eea-a3be-a46c8bc63f30\", \"model_file.zip\", 1047597290)"
            ]
          },
          "metadata": {}
        }
      ]
    }
  ]
}